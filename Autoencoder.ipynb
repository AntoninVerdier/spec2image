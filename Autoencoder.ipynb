{
 "cells": [
  {
   "cell_type": "code",
   "execution_count": 35,
   "metadata": {},
   "outputs": [],
   "source": [
    "import keras\n",
    "import librosa\n",
    "import numpy as np\n",
    "from keras import layers\n",
    "from scipy.io import wavfile\n",
    "\n",
    "\n",
    "import matplotlib.pyplot as plt\n",
    "from sklearn.model_selection import train_test_split"
   ]
  },
  {
   "cell_type": "code",
   "execution_count": 67,
   "metadata": {},
   "outputs": [],
   "source": [
    "sample, samplerate = librosa.load('../Samples/000005.wav')\n",
    "\n",
    "n_samples = int(len(sample)//(samplerate*0.04))\n",
    "\n",
    "samples = np.array_split(np.array(sample), list(range(0, len(sample), 750))[1:])[:-1]\n",
    "samples \n",
    "X_train, X_test = train_test_split(X, test_size=0.2)\n"
   ]
  },
  {
   "cell_type": "code",
   "execution_count": null,
   "metadata": {},
   "outputs": [],
   "source": [
    "latent_dim = 100  # 32 floats -> compression of factor 24.5, assuming the input is 784 floats\n",
    "timesteps = samplerate*0.04\n",
    "input_dim = 11025\n",
    "# This is our input image\n",
    "inputs = keras.Input(shape=(timesteps, input_dim))\n",
    "encoded = layers.LSTM(latent_dim)(inputs)\n",
    "\n",
    "decoded = layers.RepeatVector(timesteps)(encoded)\n",
    "decoded = layers.LSTM(input_dim, return_sequences=True)(decoded)\n",
    "\n",
    "sequence_autoencoder = keras.Model(inputs, decoded)\n",
    "encoder = keras.Model(inputs, encoded)\n",
    "\n",
    "encoded_input = keras.Input(shape=(encoding_dim,))\n",
    "decoder_layer = autoencoder.layers[-1]\n",
    "decoder = keras.Model(encoded_input, decoder_layer(encoded_input))\n",
    "\n",
    "autoencoder.compile(optimizer='adam', loss='binary_crossentropy')"
   ]
  },
  {
   "cell_type": "code",
   "execution_count": 38,
   "metadata": {},
   "outputs": [
    {
     "name": "stdout",
     "output_type": "stream",
     "text": [
      "Epoch 1/50\n",
      "24/24 [==============================] - 0s 4ms/step - loss: 0.6008 - val_loss: 0.4954\n",
      "Epoch 2/50\n",
      "24/24 [==============================] - 0s 2ms/step - loss: 0.1118 - val_loss: 0.2745\n",
      "Epoch 3/50\n",
      "24/24 [==============================] - 0s 2ms/step - loss: -0.0549 - val_loss: 0.2218\n",
      "Epoch 4/50\n",
      "24/24 [==============================] - 0s 2ms/step - loss: -0.1778 - val_loss: 0.1692\n",
      "Epoch 5/50\n",
      "24/24 [==============================] - 0s 2ms/step - loss: -0.3572 - val_loss: 0.1065\n",
      "Epoch 6/50\n",
      "24/24 [==============================] - 0s 2ms/step - loss: -0.6640 - val_loss: -0.0064\n",
      "Epoch 7/50\n",
      "24/24 [==============================] - 0s 2ms/step - loss: -1.0906 - val_loss: -0.1227\n",
      "Epoch 8/50\n",
      "24/24 [==============================] - 0s 2ms/step - loss: -1.6806 - val_loss: -0.2801\n",
      "Epoch 9/50\n",
      "24/24 [==============================] - 0s 2ms/step - loss: -2.4848 - val_loss: -0.4310\n",
      "Epoch 10/50\n",
      "24/24 [==============================] - 0s 2ms/step - loss: -3.4083 - val_loss: -0.6557\n",
      "Epoch 11/50\n",
      "24/24 [==============================] - 0s 2ms/step - loss: -4.5692 - val_loss: -0.8725\n",
      "Epoch 12/50\n",
      "24/24 [==============================] - 0s 2ms/step - loss: -5.9476 - val_loss: -1.1843\n",
      "Epoch 13/50\n",
      "24/24 [==============================] - 0s 2ms/step - loss: -7.5062 - val_loss: -1.3901\n",
      "Epoch 14/50\n",
      "24/24 [==============================] - 0s 2ms/step - loss: -9.2901 - val_loss: -1.7731\n",
      "Epoch 15/50\n",
      "24/24 [==============================] - 0s 2ms/step - loss: -11.3588 - val_loss: -2.0700\n",
      "Epoch 16/50\n",
      "24/24 [==============================] - 0s 2ms/step - loss: -13.5873 - val_loss: -2.4288\n",
      "Epoch 17/50\n",
      "24/24 [==============================] - 0s 2ms/step - loss: -15.7201 - val_loss: -2.8476\n",
      "Epoch 18/50\n",
      "24/24 [==============================] - 0s 2ms/step - loss: -18.2180 - val_loss: -3.2611\n",
      "Epoch 19/50\n",
      "24/24 [==============================] - 0s 2ms/step - loss: -20.8310 - val_loss: -3.8216\n",
      "Epoch 20/50\n",
      "24/24 [==============================] - 0s 2ms/step - loss: -23.7353 - val_loss: -4.1629\n",
      "Epoch 21/50\n",
      "24/24 [==============================] - 0s 2ms/step - loss: -26.5571 - val_loss: -4.7408\n",
      "Epoch 22/50\n",
      "24/24 [==============================] - 0s 2ms/step - loss: -29.8215 - val_loss: -5.2574\n",
      "Epoch 23/50\n",
      "24/24 [==============================] - 0s 2ms/step - loss: -32.9826 - val_loss: -5.8031\n",
      "Epoch 24/50\n",
      "24/24 [==============================] - 0s 2ms/step - loss: -36.4791 - val_loss: -6.4157\n",
      "Epoch 25/50\n",
      "24/24 [==============================] - 0s 2ms/step - loss: -40.0823 - val_loss: -7.0337\n",
      "Epoch 26/50\n",
      "24/24 [==============================] - 0s 2ms/step - loss: -43.8684 - val_loss: -7.6174\n",
      "Epoch 27/50\n",
      "24/24 [==============================] - 0s 2ms/step - loss: -47.7361 - val_loss: -8.2451\n",
      "Epoch 28/50\n",
      "24/24 [==============================] - 0s 2ms/step - loss: -51.8050 - val_loss: -8.7924\n",
      "Epoch 29/50\n",
      "24/24 [==============================] - 0s 2ms/step - loss: -56.0188 - val_loss: -9.6736\n",
      "Epoch 30/50\n",
      "24/24 [==============================] - 0s 2ms/step - loss: -60.4832 - val_loss: -10.5775\n",
      "Epoch 31/50\n",
      "24/24 [==============================] - 0s 2ms/step - loss: -65.3638 - val_loss: -11.1403\n",
      "Epoch 32/50\n",
      "24/24 [==============================] - 0s 2ms/step - loss: -70.0150 - val_loss: -12.1051\n",
      "Epoch 33/50\n",
      "24/24 [==============================] - 0s 2ms/step - loss: -74.6439 - val_loss: -12.9294\n",
      "Epoch 34/50\n",
      "24/24 [==============================] - 0s 2ms/step - loss: -80.0200 - val_loss: -13.5601\n",
      "Epoch 35/50\n",
      "24/24 [==============================] - 0s 2ms/step - loss: -84.7369 - val_loss: -14.5170\n",
      "Epoch 36/50\n",
      "24/24 [==============================] - 0s 2ms/step - loss: -90.0801 - val_loss: -15.1896\n",
      "Epoch 37/50\n",
      "24/24 [==============================] - 0s 2ms/step - loss: -95.0995 - val_loss: -16.2135\n",
      "Epoch 38/50\n",
      "24/24 [==============================] - 0s 2ms/step - loss: -101.0535 - val_loss: -17.1910\n",
      "Epoch 39/50\n",
      "24/24 [==============================] - 0s 2ms/step - loss: -106.6999 - val_loss: -18.0065\n",
      "Epoch 40/50\n",
      "24/24 [==============================] - 0s 2ms/step - loss: -112.1481 - val_loss: -18.9542\n",
      "Epoch 41/50\n",
      "24/24 [==============================] - 0s 2ms/step - loss: -117.9253 - val_loss: -19.7058\n",
      "Epoch 42/50\n",
      "24/24 [==============================] - 0s 2ms/step - loss: -123.9126 - val_loss: -20.8006\n",
      "Epoch 43/50\n",
      "24/24 [==============================] - ETA: 0s - loss: -36.227 - 0s 2ms/step - loss: -130.4726 - val_loss: -21.7607\n",
      "Epoch 44/50\n",
      "24/24 [==============================] - 0s 2ms/step - loss: -136.6728 - val_loss: -22.9271\n",
      "Epoch 45/50\n",
      "24/24 [==============================] - 0s 2ms/step - loss: -143.2583 - val_loss: -23.8112\n",
      "Epoch 46/50\n",
      "24/24 [==============================] - 0s 2ms/step - loss: -149.9586 - val_loss: -25.1035\n",
      "Epoch 47/50\n",
      "24/24 [==============================] - 0s 2ms/step - loss: -156.9580 - val_loss: -25.9461\n",
      "Epoch 48/50\n",
      "24/24 [==============================] - 0s 2ms/step - loss: -163.6713 - val_loss: -27.1539\n",
      "Epoch 49/50\n",
      "24/24 [==============================] - 0s 2ms/step - loss: -170.3971 - val_loss: -28.2974\n",
      "Epoch 50/50\n",
      "24/24 [==============================] - 0s 2ms/step - loss: -177.5613 - val_loss: -29.3455\n"
     ]
    }
   ],
   "source": [
    "autoencoder.fit(X_train, X_train,\n",
    "                epochs=50,\n",
    "                batch_size=2,\n",
    "                shuffle=True,\n",
    "                validation_data=(X_test, X_test))\n",
    "\n",
    "encoded_imgs = encoder.predict(X_test)\n",
    "decoded_imgs = decoder.predict(encoded_imgs)"
   ]
  },
  {
   "cell_type": "code",
   "execution_count": 40,
   "metadata": {},
   "outputs": [
    {
     "name": "stdout",
     "output_type": "stream",
     "text": [
      "[[0.0000000e+00 0.0000000e+00 0.0000000e+00 ... 0.0000000e+00\n",
      "  0.0000000e+00 0.0000000e+00]\n",
      " [0.0000000e+00 0.0000000e+00 0.0000000e+00 ... 0.0000000e+00\n",
      "  0.0000000e+00 0.0000000e+00]\n",
      " [5.6427634e-14 4.7411094e-14 2.4892347e-16 ... 1.6063090e-07\n",
      "  9.1686186e-10 1.7305152e-09]\n",
      " ...\n",
      " [0.0000000e+00 0.0000000e+00 0.0000000e+00 ... 0.0000000e+00\n",
      "  0.0000000e+00 0.0000000e+00]\n",
      " [0.0000000e+00 0.0000000e+00 0.0000000e+00 ... 0.0000000e+00\n",
      "  0.0000000e+00 0.0000000e+00]\n",
      " [0.0000000e+00 0.0000000e+00 0.0000000e+00 ... 0.0000000e+00\n",
      "  0.0000000e+00 0.0000000e+00]]\n"
     ]
    }
   ],
   "source": [
    "print(decoded_imgs)"
   ]
  },
  {
   "cell_type": "code",
   "execution_count": 39,
   "metadata": {},
   "outputs": [
    {
     "ename": "ValueError",
     "evalue": "cannot reshape array of size 11025 into shape (28,28)",
     "output_type": "error",
     "traceback": [
      "\u001b[0;31m---------------------------------------------------------------------------\u001b[0m",
      "\u001b[0;31mValueError\u001b[0m                                Traceback (most recent call last)",
      "\u001b[0;32m<ipython-input-39-3c8c6ab73977>\u001b[0m in \u001b[0;36m<module>\u001b[0;34m\u001b[0m\n\u001b[1;32m      4\u001b[0m     \u001b[0;31m# Display original\u001b[0m\u001b[0;34m\u001b[0m\u001b[0;34m\u001b[0m\u001b[0;34m\u001b[0m\u001b[0m\n\u001b[1;32m      5\u001b[0m     \u001b[0max\u001b[0m \u001b[0;34m=\u001b[0m \u001b[0mplt\u001b[0m\u001b[0;34m.\u001b[0m\u001b[0msubplot\u001b[0m\u001b[0;34m(\u001b[0m\u001b[0;36m2\u001b[0m\u001b[0;34m,\u001b[0m \u001b[0mn\u001b[0m\u001b[0;34m,\u001b[0m \u001b[0mi\u001b[0m \u001b[0;34m+\u001b[0m \u001b[0;36m1\u001b[0m\u001b[0;34m)\u001b[0m\u001b[0;34m\u001b[0m\u001b[0;34m\u001b[0m\u001b[0m\n\u001b[0;32m----> 6\u001b[0;31m     \u001b[0mplt\u001b[0m\u001b[0;34m.\u001b[0m\u001b[0mimshow\u001b[0m\u001b[0;34m(\u001b[0m\u001b[0mX_test\u001b[0m\u001b[0;34m[\u001b[0m\u001b[0mi\u001b[0m\u001b[0;34m]\u001b[0m\u001b[0;34m.\u001b[0m\u001b[0mreshape\u001b[0m\u001b[0;34m(\u001b[0m\u001b[0;36m28\u001b[0m\u001b[0;34m,\u001b[0m \u001b[0;36m28\u001b[0m\u001b[0;34m)\u001b[0m\u001b[0;34m)\u001b[0m\u001b[0;34m\u001b[0m\u001b[0;34m\u001b[0m\u001b[0m\n\u001b[0m\u001b[1;32m      7\u001b[0m     \u001b[0mplt\u001b[0m\u001b[0;34m.\u001b[0m\u001b[0mgray\u001b[0m\u001b[0;34m(\u001b[0m\u001b[0;34m)\u001b[0m\u001b[0;34m\u001b[0m\u001b[0;34m\u001b[0m\u001b[0m\n\u001b[1;32m      8\u001b[0m     \u001b[0max\u001b[0m\u001b[0;34m.\u001b[0m\u001b[0mget_xaxis\u001b[0m\u001b[0;34m(\u001b[0m\u001b[0;34m)\u001b[0m\u001b[0;34m.\u001b[0m\u001b[0mset_visible\u001b[0m\u001b[0;34m(\u001b[0m\u001b[0;32mFalse\u001b[0m\u001b[0;34m)\u001b[0m\u001b[0;34m\u001b[0m\u001b[0;34m\u001b[0m\u001b[0m\n",
      "\u001b[0;31mValueError\u001b[0m: cannot reshape array of size 11025 into shape (28,28)"
     ]
    },
    {
     "data": {
      "image/png": "[encoded data removed]",
      "text/plain": [
       "<Figure size 1440x288 with 1 Axes>"
      ]
     },
     "metadata": {
      "needs_background": "light"
     },
     "output_type": "display_data"
    }
   ],
   "source": [
    "n = 10  # How many digits we will display\n",
    "plt.figure(figsize=(20, 4))\n",
    "for i in range(n):\n",
    "    # Display original\n",
    "    ax = plt.subplot(2, n, i + 1)\n",
    "    plt.imshow(X_test[i].reshape(28, 28))\n",
    "    plt.gray()\n",
    "    ax.get_xaxis().set_visible(False)\n",
    "    ax.get_yaxis().set_visible(False)\n",
    "\n",
    "    # Display reconstruction\n",
    "    ax = plt.subplot(2, n, i + 1 + n)\n",
    "    plt.imshow(decoded_imgs[i].reshape(28, 28))\n",
    "    plt.gray()\n",
    "    ax.get_xaxis().set_visible(False)\n",
    "    ax.get_yaxis().set_visible(False)\n",
    "plt.show()"
   ]
  },
  {
   "cell_type": "code",
   "execution_count": 29,
   "metadata": {},
   "outputs": [
    {
     "name": "stdout",
     "output_type": "stream",
     "text": [
      "(59, 11025)\n"
     ]
    }
   ],
   "source": []
  }
 ],
 "metadata": {
  "kernelspec": {
   "display_name": "Antonin",
   "language": "python",
   "name": "antonin"
  },
  "language_info": {
   "codemirror_mode": {
    "name": "ipython",
    "version": 3
   },
   "file_extension": ".py",
   "mimetype": "text/x-python",
   "name": "python",
   "nbconvert_exporter": "python",
   "pygments_lexer": "ipython3",
   "version": "3.8.5"
  }
 },
 "nbformat": 4,
 "nbformat_minor": 4
}
